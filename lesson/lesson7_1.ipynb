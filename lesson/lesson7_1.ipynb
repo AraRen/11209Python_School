{
 "cells": [
  {
   "cell_type": "code",
   "execution_count": 2,
   "metadata": {},
   "outputs": [],
   "source": [
    "import pyinputplus as pyip\n"
   ]
  },
  {
   "cell_type": "code",
   "execution_count": 3,
   "metadata": {},
   "outputs": [
    {
     "name": "stdout",
     "output_type": "stream",
     "text": [
      "請輸入學生分數:85\n",
      "學生等級:甲\n"
     ]
    }
   ],
   "source": [
    "# 90(含)~100分為「優」\n",
    "# 80(含)~89分為「甲」\n",
    "# 70(含)~79分為「乙」\n",
    "# 60(含)~69分為「丙」\n",
    "# 0(含)~59分為「丁」\n",
    "\n",
    "#巢狀判斷,4個if\n",
    "score = pyip.inputInt(\"請輸入學生分數:\",min=0,max=100)\n",
    "print(score)\n",
    "if score >= 90:\n",
    "    grade = '優'\n",
    "else:\n",
    "    if score >= 80:\n",
    "        grade = '甲'\n",
    "    else:\n",
    "        if score >= 70:\n",
    "            grade = '乙'\n",
    "        else:\n",
    "            if score >= 60:\n",
    "                grade = '丙'\n",
    "            else:\n",
    "                grade = '丁'\n",
    "print(f\"學生等級:{grade}\")\n"
   ]
  },
  {
   "cell_type": "code",
   "execution_count": 10,
   "metadata": {},
   "outputs": [
    {
     "name": "stdout",
     "output_type": "stream",
     "text": [
      "請輸入學生分數:95\n",
      "學生等級:優\n"
     ]
    }
   ],
   "source": [
    "# 90(含)~100分為「優」\n",
    "# 80(含)~89分為「甲」\n",
    "# 70(含)~79分為「乙」\n",
    "# 60(含)~69分為「丙」\n",
    "# 0(含)~59分為「丁」\n",
    "\n",
    "#多項選擇,1個if\n",
    "score = pyip.inputInt(\"請輸入學生分數:\",min=0,max=100)\n",
    "print(score)\n",
    "\n",
    "if score >= 90:\n",
    "    grade = '優'\n",
    "elif score >= 80 :\n",
    "    grade = '甲'\n",
    "elif score >= 70 :\n",
    "    grade = '乙'\n",
    "elif score >= 60 :\n",
    "    grade = '丙'\n",
    "else:\n",
    "    grade = '丁'\n",
    "print(f\"學生等級:{grade}\")\n"
   ]
  },
  {
   "cell_type": "code",
   "execution_count": 34,
   "metadata": {},
   "outputs": [
    {
     "name": "stdout",
     "output_type": "stream",
     "text": [
      "請輸入購買金額:150000\n",
      "滿千送百後的金額是:135000\n",
      "打折後實付金額是: 108000 元\n"
     ]
    }
   ],
   "source": [
    "#輸入顧客購買金額\n",
    "#滿千送百再打折\n",
    "#100000打8折. \n",
    "#50000打85折. \n",
    "#30000打9折. \n",
    "#10000打95折. \n",
    "\n",
    "#請輸入購買金額:130000\n",
    "#實付金額是: 104000.0 元\n",
    "\n",
    "money =pyip .inputInt(\"請輸入購買金額:\")\n",
    "print(money)\n",
    "\n",
    "if money <1000:\n",
    "    total = money\n",
    "else:\n",
    "    discount = money // 1000 *100 \n",
    "    paid =money - discount\n",
    "    print(f\"滿千送百後的金額是:{paid}\")\n",
    "    if money >= 100000 :\n",
    "        total = paid * 0.8 \n",
    "    elif money >= 50000 :\n",
    "        total = paid *0.85\n",
    "    elif money >= 30000 :\n",
    "        total = paid * 0.9\n",
    "    elif money >= 10000 :\n",
    "        total = paid * 0.95\n",
    "    else:\n",
    "        total = paid\n",
    "print (\"打折後實付金額是:\",int(total),\"元\")"
   ]
  },
  {
   "cell_type": "code",
   "execution_count": 42,
   "metadata": {},
   "outputs": [
    {
     "name": "stdout",
     "output_type": "stream",
     "text": [
      "請輸入國文分數:0\n",
      "請輸入數學分數:0\n",
      "獎金:0\n"
     ]
    }
   ],
   "source": [
    "chinese = pyip.inputInt(\"請輸入國文分數:\")\n",
    "print(chinese)\n",
    "math = pyip.inputInt(\"請輸入數學分數:\")\n",
    "print(math)\n",
    "\n",
    "if chinese == 100 and math == 100:\n",
    "    bouns = 1000\n",
    "elif chinese == 100 or math == 100:\n",
    "    bouns = 500\n",
    "else:\n",
    "    bouns = 0\n",
    "\n",
    "print(f\"獎金:{bouns}\")"
   ]
  }
 ],
 "metadata": {
  "kernelspec": {
   "display_name": ".venv",
   "language": "python",
   "name": "python3"
  },
  "language_info": {
   "codemirror_mode": {
    "name": "ipython",
    "version": 3
   },
   "file_extension": ".py",
   "mimetype": "text/x-python",
   "name": "python",
   "nbconvert_exporter": "python",
   "pygments_lexer": "ipython3",
   "version": "3.10.8"
  },
  "orig_nbformat": 4
 },
 "nbformat": 4,
 "nbformat_minor": 2
}
