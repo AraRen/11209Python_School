{
 "cells": [
  {
   "cell_type": "code",
   "execution_count": 25,
   "metadata": {},
   "outputs": [
    {
     "name": "stdout",
     "output_type": "stream",
     "text": [
      "連線成功\n",
      "<connection object at 0x000001EEECDE5F10; dsn: 'user=renchen password=xxx dbname=maindb_ozze host=dpg-cl5g4upo91lc7385tj30-a.singapore-postgres.render.com port=5432', closed: 0>\n"
     ]
    }
   ],
   "source": [
    "import psycopg2\n",
    "import password as pw\n",
    "try:\n",
    "    conn = psycopg2.connect(database=pw.DATABASE, user=pw.USER, \n",
    "                            password=pw.PASSWORD, host=pw.HOST, \n",
    "                            port=\"5432\")\n",
    "except psycopg2.Error as e:\n",
    "    print(\"error\")\n",
    "    print(e)\n",
    "\n",
    "else:\n",
    "    print(\"連線成功\")\n",
    "    print(conn)\n",
    "    #conn.close()"
   ]
  },
  {
   "cell_type": "code",
   "execution_count": 26,
   "metadata": {},
   "outputs": [
    {
     "name": "stdout",
     "output_type": "stream",
     "text": [
      "[(1, 'Youbike2.0_一壽橋', '文山區', '2023-11-08 10:43:16', '樟新街64號前方', 100, 100, 15)]\n"
     ]
    }
   ],
   "source": [
    "sql = \"select * from 台北市youbike\"\n",
    "with conn.cursor() as cursor:\n",
    "    cursor.execute(sql)\n",
    "    records = cursor.fetchall()\n",
    "\n",
    "print(records)"
   ]
  },
  {
   "cell_type": "code",
   "execution_count": 27,
   "metadata": {},
   "outputs": [
    {
     "name": "stdout",
     "output_type": "stream",
     "text": [
      "[(2, 'YouBike2.0_一壽橋', '文山區', '2023-11-08 10:43:18', '樟新街64號前方', 100, 100, 15)]\n"
     ]
    }
   ],
   "source": [
    "sql = '''\n",
    "INSERT INTO 台北市youbike(站點名稱,行政區,更新時間,地址,總車輛數,可借,可還)\n",
    "VALUES('YouBike2.0_一壽橋','文山區','2023-11-08 10:43:18','樟新街64號前方',100,100,15)\n",
    "'''\n",
    "with conn.cursor() as cursor:\n",
    "    cursor.execute(sql)\n",
    "    conn.commit()\n",
    "\n",
    "sql1 = '''\n",
    "select * \n",
    "from 台北市youbike\n",
    "where 站點名稱 = 'YouBike2.0_一壽橋'\n",
    "'''\n",
    "\n",
    "with conn.cursor() as cursor:\n",
    "    cursor.execute(sql1)\n",
    "    records = cursor.fetchall()\n",
    "\n",
    "print(records)\n"
   ]
  }
 ],
 "metadata": {
  "kernelspec": {
   "display_name": ".venv",
   "language": "python",
   "name": "python3"
  },
  "language_info": {
   "codemirror_mode": {
    "name": "ipython",
    "version": 3
   },
   "file_extension": ".py",
   "mimetype": "text/x-python",
   "name": "python",
   "nbconvert_exporter": "python",
   "pygments_lexer": "ipython3",
   "version": "3.10.8"
  }
 },
 "nbformat": 4,
 "nbformat_minor": 2
}
