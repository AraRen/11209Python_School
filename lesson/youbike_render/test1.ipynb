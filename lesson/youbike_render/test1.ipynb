{
 "cells": [
  {
   "cell_type": "code",
   "execution_count": 4,
   "metadata": {},
   "outputs": [
    {
     "name": "stdout",
     "output_type": "stream",
     "text": [
      "連線成功\n",
      "<connection object at 0x000001EEECC0B340; dsn: 'user=renchen password=xxx dbname=maindb_ozze host=dpg-cl5g4upo91lc7385tj30-a.singapore-postgres.render.com port=5432', closed: 0>\n"
     ]
    }
   ],
   "source": [
    "import psycopg2\n",
    "try:\n",
    "    conn = psycopg2.connect(database=\"maindb_ozze\", user=\"renchen\", \n",
    "                            password=\"7A889wRzlDKgmi4sYWCedbw5V0PnR7Rp\", host=\"dpg-cl5g4upo91lc7385tj30-a.singapore-postgres.render.com\", \n",
    "                            port=\"5432\")\n",
    "except psycopg2.Error as e:\n",
    "    print(\"error\")\n",
    "    print(e)\n",
    "\n",
    "else:\n",
    "    print(\"連線成功\")\n",
    "    print(conn)\n",
    "    conn.close()"
   ]
  }
 ],
 "metadata": {
  "kernelspec": {
   "display_name": ".venv",
   "language": "python",
   "name": "python3"
  },
  "language_info": {
   "codemirror_mode": {
    "name": "ipython",
    "version": 3
   },
   "file_extension": ".py",
   "mimetype": "text/x-python",
   "name": "python",
   "nbconvert_exporter": "python",
   "pygments_lexer": "ipython3",
   "version": "3.10.8"
  }
 },
 "nbformat": 4,
 "nbformat_minor": 2
}
