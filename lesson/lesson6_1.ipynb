{
 "cells": [
  {
   "cell_type": "code",
   "execution_count": 2,
   "metadata": {},
   "outputs": [
    {
     "name": "stdout",
     "output_type": "stream",
     "text": [
      "成年\n"
     ]
    }
   ],
   "source": [
    "age = 21\n",
    "if age >18:\n",
    "    print(\"成年\")"
   ]
  },
  {
   "cell_type": "code",
   "execution_count": 7,
   "metadata": {},
   "outputs": [
    {
     "data": {
      "text/plain": [
       "(True, False, False)"
      ]
     },
     "execution_count": 7,
     "metadata": {},
     "output_type": "execute_result"
    }
   ],
   "source": [
    "5 == 5, 5!= 5, 3 > 5"
   ]
  },
  {
   "cell_type": "code",
   "execution_count": 14,
   "metadata": {},
   "outputs": [
    {
     "data": {
      "text/plain": [
       "(False, True, True, True)"
      ]
     },
     "execution_count": 14,
     "metadata": {},
     "output_type": "execute_result"
    }
   ],
   "source": [
    "x=7\n",
    "x==5, x==7, 5<x, x<10"
   ]
  },
  {
   "cell_type": "code",
   "execution_count": 6,
   "metadata": {},
   "outputs": [
    {
     "name": "stdout",
     "output_type": "stream",
     "text": [
      "請輸入學生分數(最高分300分):Number must be at maximum 300.\n",
      "請輸入學生分數(最高分300分):學生總分是:278.25\n"
     ]
    }
   ],
   "source": [
    "#學生總分為300\n",
    "#有些學生可以加分5%\n",
    "#如果加分超過300,就以300分為準\n",
    "\n",
    "import pyinputplus as pyip\n",
    "\n",
    "scores =pyip.inputInt(prompt=\"請輸入學生分數(最高分300分):\",min=0,max=300)\n",
    "is_add = input(\"請問是否符合加分條件?(Y,N)\")\n",
    "if is_add == \"Y\":\n",
    "    scores *= 1.05\n",
    "    if scores > 300:\n",
    "        scores = 300\n",
    "print(f\"學生總分是:{scores}\")\n",
    "\n",
    "\n"
   ]
  },
  {
   "cell_type": "code",
   "execution_count": 10,
   "metadata": {},
   "outputs": [
    {
     "name": "stdout",
     "output_type": "stream",
     "text": [
      "請輸入x(-4):-4\n",
      "請輸入y(5):5\n",
      "虛數\n"
     ]
    }
   ],
   "source": [
    "# 如果X不是負數，則回傳值為 x**(1 / y)\n",
    "#如果x是負數而且為偶數，則回傳值為\"虛數\"\n",
    "#如果x是負數而且為奇數，則回傳值為 -(-x) ** (1 / y)\n",
    "\n",
    "import pyinputplus as pyip\n",
    "\n",
    "x = pyip.inputInt(\"請輸入x(-4):\")\n",
    "print(x)\n",
    "y = pyip.inputInt(\"請輸入y(5):\")\n",
    "print(y)\n",
    "\n",
    "if x >= 0:\n",
    "    root = x ** (1 / y)\n",
    "else:\n",
    "    if x % 2 == 0:\n",
    "        root = \"虛數\"\n",
    "    else:\n",
    "        root = -(-x) ** (1 / y)\n",
    "\n",
    "\n",
    "print(root)"
   ]
  },
  {
   "cell_type": "code",
   "execution_count": 22,
   "metadata": {},
   "outputs": [
    {
     "name": "stdout",
     "output_type": "stream",
     "text": [
      "請輸入學生分數:學生等級:丁\n"
     ]
    }
   ],
   "source": [
    "#9/18 作業\n",
    "# 90(含)~100分為「優」\n",
    "# 80(含)~89分為「甲」\n",
    "# 70(含)~79分為「乙」\n",
    "# 60(含)~69分為「丙」\n",
    "# 0(含)~59分為「丁」\n",
    "\n",
    "score = pyip.inputInt(\"請輸入學生分數:\",min=0,max=100)\n",
    "\n",
    "if score >= 90:\n",
    "    grade = '優'\n",
    "else:\n",
    "    if score >= 80:\n",
    "        grade = '甲'\n",
    "    else:\n",
    "        if score >= 70:\n",
    "            grade = '乙'\n",
    "        else:\n",
    "            if score >= 60:\n",
    "                grade = '丙'\n",
    "            else:\n",
    "                grade = '丁'\n",
    "print(f\"學生等級:{grade}\")"
   ]
  },
  {
   "cell_type": "code",
   "execution_count": null,
   "metadata": {},
   "outputs": [],
   "source": []
  }
 ],
 "metadata": {
  "kernelspec": {
   "display_name": ".venv",
   "language": "python",
   "name": "python3"
  },
  "language_info": {
   "codemirror_mode": {
    "name": "ipython",
    "version": 3
   },
   "file_extension": ".py",
   "mimetype": "text/x-python",
   "name": "python",
   "nbconvert_exporter": "python",
   "pygments_lexer": "ipython3",
   "version": "3.10.8"
  },
  "orig_nbformat": 4
 },
 "nbformat": 4,
 "nbformat_minor": 2
}
