{
 "cells": [
  {
   "cell_type": "code",
   "execution_count": 9,
   "metadata": {},
   "outputs": [
    {
     "ename": "IndentationError",
     "evalue": "unexpected indent (2578716729.py, line 13)",
     "output_type": "error",
     "traceback": [
      "\u001b[1;36m  Cell \u001b[1;32mIn[9], line 13\u001b[1;36m\u001b[0m\n\u001b[1;33m    if keyin == target:\u001b[0m\n\u001b[1;37m    ^\u001b[0m\n\u001b[1;31mIndentationError\u001b[0m\u001b[1;31m:\u001b[0m unexpected indent\n"
     ]
    }
   ],
   "source": [
    "##- 猜中要告知猜了幾次\n",
    "#- 沒猜中要有提醒\n",
    "import random\n",
    "min = 1\n",
    "max = 100\n",
    "count = 0\n",
    "target = random.randint(min, max)\n",
    "print(\"===============猜數字遊戲=================:\\n\")\n",
    "while(True):\n",
    "   count += 1\n",
    "   keyin = input(f\"猜數字範圍{0}~{100}:\".format(min,max))\n",
    "   print(f\"猜數字範圍{min}~{max}:{keyin}\")\n",
    "      if keyin == target:\n",
    "         print(f\"您猜中了，答案是{target}\")\n",
    "         print(f\"您總共猜了{count}次\")\n",
    "         break\n",
    "      elif (keyin > target):\n",
    "         max = keyin\n",
    "         print(f\"再小一點\")\n",
    "      elif (keyin < target):\n",
    "         min = keyin\n",
    "         print(f\"再大一點\")\n",
    "      print(f\"您已經猜{count}次了\")\n",
    "   else:\n",
    "      print(\"請輸入範圍內的數字\")\n",
    "\n",
    "#例如:\n",
    "\n",
    "#要猜的數值是:34\n",
    "\n",
    "#猜數字範圍1~100:50\n",
    "#提示:\n",
    "#再小一點\n",
    "#您已經猜了1次\n",
    "\n",
    "#猜數字範圍1~49:10\n",
    "#提示:\n",
    "#再大一點\n",
    "#您已經猜了2次\n",
    "#猜數字範圍11~49:34\n",
    "\n",
    "#您猜中了,答案是34\n",
    "#您總共猜了3次"
   ]
  },
  {
   "cell_type": "code",
   "execution_count": 7,
   "metadata": {},
   "outputs": [
    {
     "name": "stdout",
     "output_type": "stream",
     "text": [
      "===============猜數字遊戲=================:\n",
      "\n",
      "再大一點\n",
      "您猜了 1 次\n",
      "\n",
      "再小一點\n",
      "您猜了 2 次\n",
      "\n",
      "再小一點\n",
      "您猜了 3 次\n",
      "\n",
      "再小一點\n",
      "您猜了 4 次\n",
      "\n",
      "再大一點\n",
      "您猜了 5 次\n",
      "\n",
      "請輸入提示範圍內的數字\n",
      "再大一點\n",
      "您猜了 7 次\n",
      "\n",
      "賓果!猜對了, 答案是: 19\n",
      "您猜了 8 次\n"
     ]
    }
   ],
   "source": [
    "import random\n",
    "min = 1\n",
    "max = 100\n",
    "count = 0\n",
    "target = random.randint(1, 100)\n",
    "print(\"===============猜數字遊戲=================:\\n\")\n",
    "while(True):\n",
    "    count += 1\n",
    "    keyin = int(input(\"猜數字範圍{0}~{1}:\".format(min, max)))\n",
    "    if(keyin >=min and keyin <= max):\n",
    "        if(keyin == target):\n",
    "            print(\"賓果!猜對了, 答案是:\", target)\n",
    "            print(\"您猜了\",count,\"次\")\n",
    "            break\n",
    "        elif (keyin > target):\n",
    "            max = keyin\n",
    "            print(\"再小一點\")\n",
    "        elif (keyin < target):\n",
    "            min = keyin\n",
    "            print(\"再大一點\")\n",
    "        print(\"您猜了\",count,\"次\\n\")\n",
    "    else:\n",
    "        print(\"請輸入提示範圍內的數字\")"
   ]
  }
 ],
 "metadata": {
  "kernelspec": {
   "display_name": ".venv",
   "language": "python",
   "name": "python3"
  },
  "language_info": {
   "codemirror_mode": {
    "name": "ipython",
    "version": 3
   },
   "file_extension": ".py",
   "mimetype": "text/x-python",
   "name": "python",
   "nbconvert_exporter": "python",
   "pygments_lexer": "ipython3",
   "version": "3.10.8"
  },
  "orig_nbformat": 4
 },
 "nbformat": 4,
 "nbformat_minor": 2
}
