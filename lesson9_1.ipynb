{
 "cells": [
  {
   "cell_type": "code",
   "execution_count": 13,
   "metadata": {},
   "outputs": [
    {
     "name": "stdout",
     "output_type": "stream",
     "text": [
      "請輸入第1個月份的存款:1000\n",
      "目前距離目標還差:38800\n",
      "======================\n",
      "請輸入第2個月份的存款:9000\n",
      "目前距離目標還差:29800\n",
      "======================\n",
      "請輸入第3個月份的存款:5000\n",
      "目前距離目標還差:24800\n",
      "======================\n",
      "請輸入第4個月份的存款:6000\n",
      "目前距離目標還差:18800\n",
      "======================\n",
      "請輸入第5個月份的存款:18000\n",
      "目前距離目標還差:800\n",
      "======================\n",
      "請輸入第6個月份的存款:8000\n",
      "======================\n",
      "恭喜!您已達標，總共存了6個月總存款為:47000\n"
     ]
    }
   ],
   "source": [
    "#小明想要存錢買一輛機車,機車每輛39800元，他將每月存的錢輸入，當存款足夠買機車時，就顯示提示訊息告知。\n",
    "\n",
    "import pyinputplus as pyip\n",
    "month = 0\n",
    "deposit = 0\n",
    "while (deposit < 39800):\n",
    "    month += 1\n",
    "    input_value = pyip.inputInt(f\"請輸入第{month}個月份的存款:\")\n",
    "    print(input_value)\n",
    "    deposit += input_value\n",
    "    if deposit < 39800:\n",
    "        print(f\"目前距離目標還差:{39800-deposit}\")\n",
    "    print(\"======================\")\n",
    "\n",
    "print(f\"恭喜!您已達標，總共存了{month}個月總存款為:{deposit}\")"
   ]
  }
 ],
 "metadata": {
  "kernelspec": {
   "display_name": ".venv",
   "language": "python",
   "name": "python3"
  },
  "language_info": {
   "codemirror_mode": {
    "name": "ipython",
    "version": 3
   },
   "file_extension": ".py",
   "mimetype": "text/x-python",
   "name": "python",
   "nbconvert_exporter": "python",
   "pygments_lexer": "ipython3",
   "version": "3.10.8"
  },
  "orig_nbformat": 4
 },
 "nbformat": 4,
 "nbformat_minor": 2
}
