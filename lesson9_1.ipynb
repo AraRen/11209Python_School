{
 "cells": [
  {
   "cell_type": "code",
   "execution_count": 13,
   "metadata": {},
   "outputs": [
    {
     "name": "stdout",
     "output_type": "stream",
     "text": [
      "請輸入第1個月份的存款:1000\n",
      "目前距離目標還差:38800\n",
      "======================\n",
      "請輸入第2個月份的存款:9000\n",
      "目前距離目標還差:29800\n",
      "======================\n",
      "請輸入第3個月份的存款:5000\n",
      "目前距離目標還差:24800\n",
      "======================\n",
      "請輸入第4個月份的存款:6000\n",
      "目前距離目標還差:18800\n",
      "======================\n",
      "請輸入第5個月份的存款:18000\n",
      "目前距離目標還差:800\n",
      "======================\n",
      "請輸入第6個月份的存款:8000\n",
      "======================\n",
      "恭喜!您已達標，總共存了6個月總存款為:47000\n"
     ]
    }
   ],
   "source": [
    "#小明想要存錢買一輛機車,機車每輛39800元，他將每月存的錢輸入，當存款足夠買機車時，就顯示提示訊息告知。\n",
    "\n",
    "import pyinputplus as pyip\n",
    "month = 0\n",
    "deposit = 0\n",
    "while (deposit < 39800):\n",
    "    month += 1\n",
    "    input_value = pyip.inputInt(f\"請輸入第{month}個月份的存款:\")\n",
    "    print(input_value)\n",
    "    deposit += input_value\n",
    "    if deposit < 39800:\n",
    "        print(f\"目前距離目標還差:{39800-deposit}\")\n",
    "    print(\"======================\")\n",
    "\n",
    "print(f\"恭喜!您已達標，總共存了{month}個月總存款為:{deposit}\")"
   ]
  },
  {
   "cell_type": "code",
   "execution_count": 17,
   "metadata": {},
   "outputs": [
    {
     "name": "stdout",
     "output_type": "stream",
     "text": [
      "a\n",
      "b\n",
      "c\n"
     ]
    }
   ],
   "source": [
    "while (True):\n",
    "    stuff = input(\"請輸入小寫文字[按q會離開]:\")\n",
    "    if stuff == 'q':\n",
    "        break\n",
    "    print(stuff)"
   ]
  },
  {
   "cell_type": "code",
   "execution_count": 26,
   "metadata": {},
   "outputs": [
    {
     "name": "stdout",
     "output_type": "stream",
     "text": [
      "123的平方是15129\n",
      "117的平方是13689\n",
      "不做動作，請重新輸入\n",
      "叫你打數字你在幹嘛\n",
      "叫你打數字你在幹嘛\n",
      "q你麻痺\n"
     ]
    }
   ],
   "source": [
    "#奇數輸出平方\n",
    "#偶數不做任何動作\n",
    "while(True):\n",
    "    keyin = input(\"請輸入整數，輸入[q]會離開:\")\n",
    "    if keyin =='q':\n",
    "        print(\"q你麻痺\")\n",
    "        break\n",
    "    try:\n",
    "        value = int(keyin)\n",
    "    except:\n",
    "        print(\"叫你打數字你在幹嘛\")\n",
    "        continue\n",
    "    else:\n",
    "        if value % 2 == 0:\n",
    "            print(\"不做動作，請重新輸入\")\n",
    "            continue\n",
    "        else:\n",
    "            print(f\"{value}的平方是{value ** 2}\")"
   ]
  },
  {
   "cell_type": "code",
   "execution_count": 50,
   "metadata": {},
   "outputs": [
    {
     "name": "stdout",
     "output_type": "stream",
     "text": [
      "a不是整數，請重新輸入\n",
      "f不是整數，請重新輸入\n",
      "10是整數無誤\n"
     ]
    }
   ],
   "source": [
    "while(True):\n",
    "    input_value = input(\"請輸入整數:\")\n",
    "    if input_value == \"q\":\n",
    "        print(\"已退出\")\n",
    "        break\n",
    "    try:\n",
    "        value = int(input_value)\n",
    "    except:\n",
    "        print(f\"{input_value}不是整數，請重新輸入\")\n",
    "        continue\n",
    "    else:\n",
    "        print(f\"{input_value}是整數無誤\")\n",
    "        break"
   ]
  },
  {
   "cell_type": "code",
   "execution_count": 51,
   "metadata": {},
   "outputs": [
    {
     "name": "stdout",
     "output_type": "stream",
     "text": [
      "a格式錯誤，請重新輸入\n",
      "b格式錯誤，請重新輸入\n",
      "4錯誤，數值必須在10~20之間\n",
      "15\n"
     ]
    }
   ],
   "source": [
    "while True:\n",
    "    try:\n",
    "        key_in = input(\"慶輸入整數\")\n",
    "        value = int(key_in)\n",
    "    except:\n",
    "        print(f\"{key_in}格式錯誤，請重新輸入\")\n",
    "        continue\n",
    "    else:\n",
    "        if value <= 20 and value >=10:\n",
    "            break\n",
    "        else:\n",
    "            print(f\"{value}錯誤，數值必須在10~20之間\")\n",
    "            continue\n",
    "print(value)"
   ]
  },
  {
   "cell_type": "code",
   "execution_count": null,
   "metadata": {},
   "outputs": [],
   "source": []
  }
 ],
 "metadata": {
  "kernelspec": {
   "display_name": ".venv",
   "language": "python",
   "name": "python3"
  },
  "language_info": {
   "codemirror_mode": {
    "name": "ipython",
    "version": 3
   },
   "file_extension": ".py",
   "mimetype": "text/x-python",
   "name": "python",
   "nbconvert_exporter": "python",
   "pygments_lexer": "ipython3",
   "version": "3.10.8"
  },
  "orig_nbformat": 4
 },
 "nbformat": 4,
 "nbformat_minor": 2
}
