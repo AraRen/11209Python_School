{
 "cells": [
  {
   "cell_type": "code",
   "execution_count": 1,
   "metadata": {},
   "outputs": [],
   "source": [
    "import pyinputplus as pyip\n"
   ]
  },
  {
   "cell_type": "code",
   "execution_count": 13,
   "metadata": {},
   "outputs": [
    {
     "name": "stdout",
     "output_type": "stream",
     "text": [
      "請輸入身高,單位為(公分):177\n",
      "請輸入體重,單位為(公斤):80\n",
      "您的BMI是:25.53545\n",
      "您的體重過重\n"
     ]
    }
   ],
   "source": [
    "##bmi.py\n",
    "#BMI公式體重除以身高的平方=> KG/M**2\n",
    "#請輸入身高,單位為(公分):177\n",
    "#請輸入體重,單位為(公斤):80\n",
    "\n",
    "#您的BMI是25.53544\n",
    "#「您的體重過重」\n",
    "\n",
    "height = pyip.inputInt(\"請輸入身高,單位為(公分):\")\n",
    "print(height)\n",
    "weight = pyip.inputInt(\"請輸入體重,單位為(公斤):\")\n",
    "print(weight)\n",
    "\n",
    "BMI = weight / ((height/100)**2)\n",
    "print(f\"您的BMI是:{BMI:.5f}\")\n",
    "\n",
    "if BMI < 18.5 :\n",
    "    stats = \"太輕\"\n",
    "elif BMI <= 25 :\n",
    "    stats = \"正常\"\n",
    "elif BMI <= 30 :\n",
    "    stats = \"過重\"\n",
    "else:\n",
    "    stats = \"肥胖\"\n",
    "print(f\"您的體重{stats}\")"
   ]
  },
  {
   "cell_type": "code",
   "execution_count": 28,
   "metadata": {},
   "outputs": [
    {
     "name": "stdout",
     "output_type": "stream",
     "text": [
      "請輸入收縮壓:117 mmHg\n",
      "請輸入舒張壓:90 mmHg\n",
      "您的血壓高血壓二期\n"
     ]
    }
   ],
   "source": [
    "#高血壓\n",
    "\n",
    "sbp = pyip.inputInt(\"請輸入收縮壓:\")\n",
    "print(sbp,\"mmHg\")\n",
    "dbp = pyip.inputInt(\"請輸入舒張壓:\")\n",
    "print(dbp,\"mmHg\")\n",
    "\n",
    "if sbp <120 and dbp <80:\n",
    "    stats = \"正常\"\n",
    "elif 129 >= sbp >=120 and dbp <80:\n",
    "    stats = \"血壓升高\"\n",
    "elif 139 >= sbp >=130 or 89 >= dbp >= 80:\n",
    "    stats = \"高血壓一期\"\n",
    "elif sbp >=140 or dbp >= 90:\n",
    "    stats = \"高血壓二期\"\n",
    "if sbp >=130 and dbp <80:\n",
    "    stats = \"單純收縮期高血壓\"\n",
    "\n",
    "print(f\"您的血壓{stats}\")"
   ]
  }
 ],
 "metadata": {
  "kernelspec": {
   "display_name": ".venv",
   "language": "python",
   "name": "python3"
  },
  "language_info": {
   "codemirror_mode": {
    "name": "ipython",
    "version": 3
   },
   "file_extension": ".py",
   "mimetype": "text/x-python",
   "name": "python",
   "nbconvert_exporter": "python",
   "pygments_lexer": "ipython3",
   "version": "3.10.8"
  },
  "orig_nbformat": 4
 },
 "nbformat": 4,
 "nbformat_minor": 2
}
